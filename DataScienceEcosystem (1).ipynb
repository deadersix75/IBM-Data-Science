{
 "cells": [
  {
   "cell_type": "markdown",
   "id": "12b8eac4-5ae0-4b0b-a592-4c5cbb75befb",
   "metadata": {},
   "source": [
    "# Data Science Tools and Ecosystem"
   ]
  },
  {
   "cell_type": "markdown",
   "id": "6ca88a57-0e19-414b-9ebb-8a8ff4633c94",
   "metadata": {},
   "source": [
    "**Objectives:**\n",
    "\n",
    "- List popular languages for Data Science.\n",
    "- Identify key libraries used in Data Science.\n",
    "- Explore development environment tools for Data Science.\n",
    "- Understand basic arithmetic expressions in Python.\n"
   ]
  },
  {
   "cell_type": "markdown",
   "id": "c05103f8-22da-479b-8dfb-72d55e0cfcf1",
   "metadata": {},
   "source": [
    "## In this notebook, Data Science Tools and Ecostystem are summarized."
   ]
  },
  {
   "cell_type": "markdown",
   "id": "ce279e52-1d94-40e3-ad20-dd4355684382",
   "metadata": {},
   "source": [
    "Some of the popular languages that Data Scientists use are:\n",
    "\n",
    "1. Python\n",
    "2. R\n",
    "3. SQL\n",
    "4. Java\n",
    "5. Scala"
   ]
  },
  {
   "cell_type": "markdown",
   "id": "f3f121f2-c852-4f04-b5d9-ed221e8c1914",
   "metadata": {},
   "source": [
    "Some of the commonly used libraries used by Data Scientists include:\n",
    "1. Pandas\n",
    "2. Matplotlib\n",
    "3. Scikit.learn\n",
    "4. Numpy"
   ]
  },
  {
   "cell_type": "markdown",
   "id": "2de8afbf-80f3-4309-bc46-560c20e371c2",
   "metadata": {},
   "source": [
    "| Data Science Tools |\n",
    "|--------------------|\n",
    "| Jupyter Notebook   |\n",
    "| RStudio            |\n",
    "| Apache Spark       |"
   ]
  },
  {
   "cell_type": "markdown",
   "id": "190719b0-3db4-40e9-a9e9-738c81bcd34a",
   "metadata": {},
   "source": [
    "### Below are a few examples of evaluating arithmetic expressions in Python"
   ]
  },
  {
   "cell_type": "code",
   "execution_count": 69,
   "id": "61e9a7e0-32da-4749-8add-9bbdb6c1e55b",
   "metadata": {},
   "outputs": [
    {
     "data": {
      "text/plain": [
       "17"
      ]
     },
     "execution_count": 69,
     "metadata": {},
     "output_type": "execute_result"
    }
   ],
   "source": [
    "# This a simple arithmetic expression to multiply then add integers.\n",
    "(3*4)+5"
   ]
  },
  {
   "cell_type": "code",
   "execution_count": 70,
   "id": "f0ce1921-00d8-4873-86ae-accfe28e2711",
   "metadata": {},
   "outputs": [
    {
     "data": {
      "text/plain": [
       "3.3333333333333335"
      ]
     },
     "execution_count": 70,
     "metadata": {},
     "output_type": "execute_result"
    }
   ],
   "source": [
    "# This will convert 200 minutes to hours by diving by 60.\n",
    "200/60"
   ]
  },
  {
   "cell_type": "markdown",
   "id": "a65abc46-6b38-4bdf-9dd9-2a492858b916",
   "metadata": {},
   "source": [
    "## Author \n",
    "Danny Taormina"
   ]
  }
 ],
 "metadata": {
  "kernelspec": {
   "display_name": "Python [conda env:base] *",
   "language": "python",
   "name": "conda-base-py"
  },
  "language_info": {
   "codemirror_mode": {
    "name": "ipython",
    "version": 3
   },
   "file_extension": ".py",
   "mimetype": "text/x-python",
   "name": "python",
   "nbconvert_exporter": "python",
   "pygments_lexer": "ipython3",
   "version": "3.12.7"
  }
 },
 "nbformat": 4,
 "nbformat_minor": 5
}
